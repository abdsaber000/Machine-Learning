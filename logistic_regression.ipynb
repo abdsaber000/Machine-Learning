{
 "cells": [
  {
   "cell_type": "code",
   "execution_count": 8,
   "id": "70de1e89-b8dc-4c41-be42-22f7aaff304b",
   "metadata": {},
   "outputs": [],
   "source": [
    "import numpy as np\n",
    "import math"
   ]
  },
  {
   "cell_type": "code",
   "execution_count": 5,
   "id": "8a802f42-32ba-4862-ac3f-b8a50f0d8253",
   "metadata": {},
   "outputs": [
    {
     "name": "stdout",
     "output_type": "stream",
     "text": [
      "[[34.62365962 78.02469282]\n",
      " [30.28671077 43.89499752]\n",
      " [35.84740877 72.90219803]\n",
      " [60.18259939 86.3085521 ]\n",
      " [79.03273605 75.34437644]\n",
      " [45.08327748 56.31637178]\n",
      " [61.10666454 96.51142588]\n",
      " [75.02474557 46.55401354]\n",
      " [76.0987867  87.42056972]\n",
      " [84.43281996 43.53339331]]\n"
     ]
    }
   ],
   "source": [
    "X = np.array([[34.62365962 ,78.02469282],\n",
    " [30.28671077, 43.89499752],\n",
    " [35.84740877 ,72.90219803],\n",
    " [60.18259939 ,86.3085521 ],\n",
    " [79.03273605 ,75.34437644],\n",
    " [45.08327748 ,56.31637178],\n",
    " [61.10666454 ,96.51142588],\n",
    " [75.02474557 ,46.55401354],\n",
    " [76.0987867  ,87.42056972],\n",
    " [84.43281996 ,43.53339331]])\n",
    "\n",
    "print(X)"
   ]
  },
  {
   "cell_type": "code",
   "execution_count": 6,
   "id": "0812e061-5568-4077-8ea5-35a7dcff260b",
   "metadata": {},
   "outputs": [
    {
     "name": "stdout",
     "output_type": "stream",
     "text": [
      "[0. 0. 0. 1. 1. 0. 1. 1. 1. 1.]\n"
     ]
    }
   ],
   "source": [
    "y = np.array([0., 0., 0., 1., 1., 0., 1., 1., 1., 1.]);\n",
    "print(y)"
   ]
  },
  {
   "cell_type": "markdown",
   "id": "70c50470-a0cd-4e5a-aaf1-6b8acd7c2ca3",
   "metadata": {},
   "source": [
    "$$sigmoid(z) = \\frac{1}{1 + e^{-z}}$$"
   ]
  },
  {
   "cell_type": "code",
   "execution_count": 7,
   "id": "6abab613-aadc-4f5b-8bbd-4f0cf8eeb8a6",
   "metadata": {},
   "outputs": [],
   "source": [
    "def sigmoid(z):\n",
    "    return 1 / (1 + np.exp(-z))"
   ]
  },
  {
   "cell_type": "markdown",
   "id": "dcb51c7a-376c-4234-8b81-d274d9e48f0d",
   "metadata": {},
   "source": [
    "now we will implement the cost function :\n",
    "$$ J(\\mathbf{w},b) = \\frac{1}{m}\\sum_{i=0}^{m-1} \\left[ loss(f_{\\mathbf{w},b}(\\mathbf{x}^{(i)}), y^{(i)}) \\right] \\tag{1}$$\n"
   ]
  },
  {
   "cell_type": "markdown",
   "id": "a796c62d-83d9-451a-97f5-e9d4ff33dc08",
   "metadata": {},
   "source": [
    "The $loss$ function for logistic regression is :\n",
    "$$loss(f_{\\mathbf{w},b}(\\mathbf{x}^{(i)}), y^{(i)}) = (-y^{(i)} \\log\\left(f_{\\mathbf{w},b}\\left( \\mathbf{x}^{(i)} \\right) \\right) - \\left( 1 - y^{(i)}\\right) \\log \\left( 1 - f_{\\mathbf{w},b}\\left( \\mathbf{x}^{(i)} \\right) \\right) \\tag{2}$$\n",
    "\r\n"
   ]
  },
  {
   "cell_type": "code",
   "execution_count": 9,
   "id": "e3ac0057-e0b4-4c19-88c7-4722cd493102",
   "metadata": {},
   "outputs": [],
   "source": [
    "def f(x , w, b):\n",
    "    return sigmoid(np.dot(x , w) + b)\n",
    "\n",
    "def compute_loss(x , y , w , b):\n",
    "    return -y * math.log(f(x , w , b)) - (1-  y) * math.log(1 - f(x , w, b))\n",
    "\n",
    "def compute_cost(X, y, w, b, *argv):\n",
    "    m, n = X.shape\n",
    "    \n",
    "    total_cost = 0\n",
    "    \n",
    "    for i in range(m):\n",
    "        total_cost += compute_loss(X[i] , y[i] , w , b)\n",
    "        \n",
    "    total_cost /= m\n",
    "\n",
    "    return total_cost\n"
   ]
  },
  {
   "cell_type": "markdown",
   "id": "7babd5b1-afc9-4cb0-89a4-5583c1a91dc4",
   "metadata": {},
   "source": [
    "The gredient descent algorithm for logistic regression : \n",
    "$$\\begin{align*}& \\text{repeat until convergence:} \\; \\lbrace \\newline \\; & b := b - \\alpha \\frac{\\partial J(\\mathbf{w},b)}{\\partial b} \\newline \\; & w_j := w_j - \\alpha \\frac{\\partial J(\\mathbf{w},b)}{\\partial w_j} \\tag{1} \\; & \\text{for j := 0..n-1}\\newline & \\rbrace\\end{align*}$$\n"
   ]
  },
  {
   "cell_type": "markdown",
   "id": "82961aa7-685e-4cc3-943c-bf2f5dd3b621",
   "metadata": {},
   "source": [
    "To implement gredient descent, we will implement a function to compute the following terms :\n",
    "\n",
    "$$\\frac{\\partial J(\\mathbf{w},b)}{\\partial w}, \\frac{\\partial J(\\mathbf{w},b)}{\\partial b}$$"
   ]
  },
  {
   "cell_type": "markdown",
   "id": "072e2819-0cc4-4593-8e7d-a6091f19093d",
   "metadata": {},
   "source": [
    "$$ \\frac{\\partial J(\\mathbf{w},b)}{\\partial b} = \\frac{1}{m} \\sum\\limits_{i = 0}^{m-1} (f_{\\mathbf{w},b}(\\mathbf{x}^{(i)}) - \\mathbf{y}^{(i)}) \\tag{2} $$ $$ \\frac{\\partial J(\\mathbf{w},b)}{\\partial w_j} = \\frac{1}{m} \\sum\\limits_{i = 0}^{m-1} (f_{\\mathbf{w},b}(\\mathbf{x}^{(i)}) - \\mathbf{y}^{(i)})x_{j}^{(i)} \\tag{3} $$"
   ]
  },
  {
   "cell_type": "code",
   "execution_count": 27,
   "id": "6ffd7533-8477-43e6-ade1-f1f80eb462c3",
   "metadata": {},
   "outputs": [],
   "source": [
    "def compute_gradient(X, y, w, b): \n",
    "    m, n = X.shape\n",
    "    dj_dw = np.zeros(w.shape)\n",
    "    dj_db = 0.\n",
    "    for i in range(m):\n",
    "        err = f(X[i] , w , b) - y[i]\n",
    "        dj_db += err\n",
    "        for j in range(n):\n",
    "            dj_dw[j] += err * X[i, j]\n",
    "    dj_dw /= m\n",
    "    dj_db /= m\n",
    "        \n",
    "    return dj_db, dj_dw"
   ]
  },
  {
   "cell_type": "markdown",
   "id": "33570073-89ca-41d1-9f2c-215fc99ec105",
   "metadata": {},
   "source": [
    "Since we implemented all gredient descent components, we're ready now to implement the algorithm itself."
   ]
  },
  {
   "cell_type": "code",
   "execution_count": 28,
   "id": "d4a37af4-20ef-4dc4-a893-85abc503e7c4",
   "metadata": {},
   "outputs": [],
   "source": [
    "def gradient_descent(X, y, w_in, b_in, cost_function, gradient_function, alpha, num_iters): \n",
    "    \n",
    "    # number of training examples\n",
    "    m = len(X)\n",
    "    \n",
    "    for i in range(num_iters):\n",
    "\n",
    "        # Calculate the gradient and update the parameters\n",
    "        dj_db, dj_dw = gradient_function(X, y, w_in, b_in)   \n",
    "\n",
    "        # Update Parameters using w, b, alpha and gradient\n",
    "        w_in = w_in - alpha * dj_dw               \n",
    "        b_in = b_in - alpha * dj_db              \n",
    "        \n",
    "    return w_in, b_in"
   ]
  },
  {
   "cell_type": "code",
   "execution_count": 30,
   "id": "862257c7-9fbb-41f4-8ed3-45516425dfee",
   "metadata": {},
   "outputs": [],
   "source": [
    "#assume initial values of w , b\n",
    "\n",
    "initial_w = 0.01 * (np.random.rand(2) - 0.5)\n",
    "initial_b = -8\n",
    "iterations = 10000\n",
    "alpha = 0.001\n",
    "\n",
    "w , b = gradient_descent(X , y , initial_w , initial_b , compute_cost , compute_gradient , alpha , iterations)\n",
    "\n"
   ]
  },
  {
   "cell_type": "markdown",
   "id": "bbcbaa64-6ee6-4b01-8bd7-045f03752caf",
   "metadata": {},
   "source": [
    "Now we can evaluate the logistic regression.\n",
    "\n",
    "using the learned values of $w,b$ we can predict whether data entered has a value of 0 or 1.\n",
    "\n",
    "if $f(x^{(i)}) >= 0.5$, predict $y^{(i)}=1$\r\n",
    " \n",
    "  if $f(x^{(i)}) < 0.5$, predict $y^{(i)}=0$\r\n",
    "    "
   ]
  },
  {
   "cell_type": "code",
   "execution_count": 31,
   "id": "5f4a90cc-140f-4811-8587-6171df5a5cdd",
   "metadata": {},
   "outputs": [],
   "source": [
    "def predict(X, w, b): \n",
    "    m, n = X.shape   \n",
    "    p = np.zeros(m)\n",
    "    for i in range(m):\n",
    "        p[i] = f(X[i] , w , b) >= 0.5\n",
    "    return p"
   ]
  },
  {
   "cell_type": "code",
   "execution_count": 32,
   "id": "3f86df37-1059-4f0c-8254-59bba87a4590",
   "metadata": {},
   "outputs": [
    {
     "name": "stdout",
     "output_type": "stream",
     "text": [
      "[0. 1. 1. 1.]\n"
     ]
    }
   ],
   "source": [
    "#test predict function\n",
    "np.random.seed(1)\n",
    "tmp_w = np.random.randn(2)\n",
    "tmp_b = 0.3    \n",
    "tmp_X = np.random.randn(4, 2) - 0.5\n",
    "\n",
    "tmp_p = predict(tmp_X, tmp_w, tmp_b)\n",
    "print(tmp_p)\n",
    "#output = [0. 1. 1. 1.]"
   ]
  },
  {
   "cell_type": "code",
   "execution_count": null,
   "id": "76e7d5f3-d122-4784-b90a-345f50f8c462",
   "metadata": {},
   "outputs": [],
   "source": []
  }
 ],
 "metadata": {
  "kernelspec": {
   "display_name": "Python 3 (ipykernel)",
   "language": "python",
   "name": "python3"
  },
  "language_info": {
   "codemirror_mode": {
    "name": "ipython",
    "version": 3
   },
   "file_extension": ".py",
   "mimetype": "text/x-python",
   "name": "python",
   "nbconvert_exporter": "python",
   "pygments_lexer": "ipython3",
   "version": "3.11.4"
  }
 },
 "nbformat": 4,
 "nbformat_minor": 5
}
